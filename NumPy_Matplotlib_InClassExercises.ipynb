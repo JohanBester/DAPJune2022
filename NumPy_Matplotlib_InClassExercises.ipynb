{
 "cells": [
  {
   "cell_type": "code",
   "execution_count": null,
   "id": "3425e2a8",
   "metadata": {},
   "outputs": [],
   "source": [
    "# Exercise One\n",
    "# Draw a line in a diagram from position (1, 3) to position (8,10)\n",
    "\n",
    "import matplotlib.pyplot as plt\n",
    "import numpy as np\n",
    "\n",
    "xpoints = np.array([1, 8])\n",
    "ypoints = np.array([3,10]) \n",
    "\n",
    "plt.plot(xpoints, ypoints)\n",
    "plt.title('Exercise One')\n",
    "\n",
    "plt.show()\n"
   ]
  },
  {
   "cell_type": "code",
   "execution_count": null,
   "id": "20344370",
   "metadata": {},
   "outputs": [],
   "source": [
    "# Exercise Two\n",
    "# Draw 2 points in a diagram\n",
    "\n",
    "\n",
    "import matplotlib.pyplot as plt\n",
    "import numpy as np\n",
    "\n",
    "xpoints = np.array([1, 8])\n",
    "ypoints = np.array([3,10]) \n",
    "\n",
    "plt.plot(xpoints, ypoints, 'o')\n",
    "plt.title('Exercise Two')\n",
    "\n",
    "plt.show()\n"
   ]
  },
  {
   "cell_type": "code",
   "execution_count": null,
   "id": "6cc00155",
   "metadata": {},
   "outputs": [],
   "source": [
    "# Exercise Three\n",
    "import matplotlib.pyplot as plt\n",
    "import numpy as np\n",
    "\n",
    "plt.plot([1,2,3,4], [1,4,9,16], 'ro')\n",
    "plt.axis([0,6,0,20])\n",
    "plt.title('Exercise Three - plot Multiple points')\n",
    "plt.show()\n"
   ]
  },
  {
   "cell_type": "code",
   "execution_count": null,
   "id": "5f5e965c",
   "metadata": {},
   "outputs": [],
   "source": [
    "# Exercise Four\n",
    "# Draw a line in a diagram \n",
    "# from position (1, 3) to (2, 8) \n",
    "# then to (6, 1) and \n",
    "# finally to position (8,10)\n",
    "\n",
    "import matplotlib.pyplot as plt\n",
    "import numpy as np\n",
    "\n",
    "xpoints = np.array([1, 2, 6, 8])\n",
    "ypoints = np.array([3, 8, 1, 10])\n",
    "\n",
    "plt.plot(xpoints, ypoints, 'o')\n",
    "plt.plot(xpoints, ypoints)\n",
    "plt.title('Exercise Four - plot point and draw a line')\n",
    "\n",
    "plt.show()\n"
   ]
  },
  {
   "cell_type": "code",
   "execution_count": null,
   "id": "e579a276",
   "metadata": {},
   "outputs": [],
   "source": [
    "# Exercise Five\n",
    "# Plotting directly from a .csv\n",
    "\n",
    "import pandas as pd\n",
    "import matplotlib.pyplot as plt\n",
    "\n",
    "df = pd.read_csv('DAP_SampleData\\data.csv')\n",
    "\n",
    "df.plot()\n",
    "\n",
    "plt.title('Exercise Five - Data plot')\n",
    "\n",
    "plt.show()\n"
   ]
  },
  {
   "cell_type": "code",
   "execution_count": null,
   "id": "2cce4a44",
   "metadata": {},
   "outputs": [],
   "source": [
    "# Exercise Six\n",
    "# Creating Random a scatter plot\n",
    "\n",
    "data = {'a': np.arange(50),\n",
    "        'c': np.random.randint(0,50,50),\n",
    "        'd': np.random.randn(50)}\n",
    "data['b'] = data['a'] + 10 * np.random.randn(50)\n",
    "data['d'] = np.abs(data['d']) * 100\n",
    "\n",
    "plt.scatter('a', 'b', c='c', s='d', data=data)\n",
    "plt.xlabel('entry a')\n",
    "plt.ylabel('entry b')\n",
    "plt.title('Exercise Six -- Random scatter Plot')\n",
    "\n",
    "plt.show()\n"
   ]
  },
  {
   "cell_type": "code",
   "execution_count": null,
   "id": "b75caef6",
   "metadata": {},
   "outputs": [],
   "source": [
    "# Exercise Seven\n",
    "# Creating a scatter plot\n",
    "# from a data file\n",
    "\n",
    "import pandas as pd\n",
    "import matplotlib.pyplot as plt\n",
    "\n",
    "df = pd.read_csv('DAP_SampleData\\data.csv')\n",
    "\n",
    "df.plot(kind = \"scatter\", x = \"Duration\", y = \"Calories\")\n",
    "\n",
    "plt.title('Exercise Seven - scatter plot')\n",
    "\n",
    "plt.show()\n"
   ]
  },
  {
   "cell_type": "code",
   "execution_count": null,
   "id": "278a110c",
   "metadata": {},
   "outputs": [],
   "source": [
    "# Exercise Eight\n",
    "# Creating a Histogram plot\n",
    "# frm a .csv file\n",
    "\n",
    "import pandas as pd\n",
    "import matplotlib.pyplot as plt\n",
    "\n",
    "df = pd.read_csv('DAP_SampleData\\data.csv')\n",
    "\n",
    "df[\"Duration\"].plot(kind ='hist')\n",
    "\n",
    "plt.title('Exercise Eight - Histogram')\n",
    "\n",
    "plt.show()\n"
   ]
  },
  {
   "cell_type": "code",
   "execution_count": null,
   "id": "09d633b4",
   "metadata": {},
   "outputs": [],
   "source": [
    "# Exercise Eight\n",
    "# Creating a Added Variable plot\n",
    "\n",
    "import numpy as np\n",
    "import matplotlib.pyplot as plt\n",
    "\n",
    "# evenly sample time at 200ms intervals\n",
    "t = np.arange(0.,5.,0.2)\n",
    "\n",
    "plt.plot(t, t, 'r--', t, t**2, 'bs', t, t**3, 'g^')\n",
    "plt.title('Exercise Eight - Added Variable Plot')\n",
    "plt.show()\n"
   ]
  }
 ],
 "metadata": {
  "kernelspec": {
   "display_name": "Python 3 (ipykernel)",
   "language": "python",
   "name": "python3"
  },
  "language_info": {
   "codemirror_mode": {
    "name": "ipython",
    "version": 3
   },
   "file_extension": ".py",
   "mimetype": "text/x-python",
   "name": "python",
   "nbconvert_exporter": "python",
   "pygments_lexer": "ipython3",
   "version": "3.10.7"
  },
  "vscode": {
   "interpreter": {
    "hash": "369f2c481f4da34e4445cda3fffd2e751bd1c4d706f27375911949ba6bb62e1c"
   }
  }
 },
 "nbformat": 4,
 "nbformat_minor": 5
}
