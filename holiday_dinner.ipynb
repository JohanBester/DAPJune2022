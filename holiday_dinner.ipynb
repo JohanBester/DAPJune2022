{
 "cells": [
  {
   "cell_type": "markdown",
   "metadata": {},
   "source": [
    "# Holiday Dinner Challenge:\n",
    "\n",
    "    TODO: \n",
    "    Using the \"dishes\" list, read the data, and answer the following questions.\n",
    "\n",
    "    Create a new variable for each new condition stated below.\n",
    "    \n",
    "    Code a solution and assign it to the variable.\n",
    "\n",
    "    When completed share the URL to your GitHub repo with Holly, James, John, or Johan directly via Slack. We don't want to spoil anyone else's dinner!\n",
    "\n",
    "    If you're adventurous, add your own attributes to the dishes, or make your dinner more appetizing by adding something else."
   ]
  },
  {
   "cell_type": "code",
   "execution_count": null,
   "metadata": {},
   "outputs": [],
   "source": [
    "dishes = [\n",
    "    {\n",
    "        \"name\": \"Turkey\",\n",
    "        \"calories\": 100,\n",
    "        \"cost\": 7\n",
    "    },\n",
    "    {\n",
    "        \"name\": \"Cranberry stuffing\",\n",
    "        \"calories\": 110,\n",
    "        \"cost\": 2\n",
    "    },    \n",
    "    {\n",
    "        \"name\": \"Potatoes\",\n",
    "        \"calories\": 75,\n",
    "        \"cost\": 2\n",
    "    },\n",
    "    {\n",
    "        \"name\": \"Cranberry Sauce\",\n",
    "        \"calories\": 150,\n",
    "        \"cost\": 3\n",
    "    },\n",
    "    {\n",
    "        \"name\": \"Corn\",\n",
    "        \"calories\": 50,\n",
    "        \"cost\": 2\n",
    "    },\n",
    "    {\n",
    "        \"name\": \"Ice cream\",\n",
    "        \"calories\": 360,\n",
    "        \"cost\": 4\n",
    "    },    \n",
    "    {\n",
    "        \"name\": \"Pumpkin Pie\",\n",
    "        \"calories\": 404,\n",
    "        \"cost\": 5\n",
    "    }\n",
    "]"
   ]
  },
  {
   "cell_type": "markdown",
   "metadata": {},
   "source": [
    "## Question #1\n",
    "\n",
    "Michael hates cranberry, use a filtering method or function on the \"dishes\" list to create a new list called \"michaelPlate\" that only contains food items from the \"dishes\" list that don't contain cranberry."
   ]
  },
  {
   "cell_type": "markdown",
   "metadata": {},
   "source": [
    "## Question #2\n",
    "\n",
    "David treats cranberry relish like Frank's Red Hot. Use a method or function on the \"dishes\" list to create a new list called \"davidPlate\" that replicates the original dishes list BUT, with \"topped with Cranberry Sauce\" concatenated to each dish name. EG:- \"Potatoes topped with Cranberry Sauce\""
   ]
  },
  {
   "cell_type": "markdown",
   "metadata": {},
   "source": [
    "## Question #3\n",
    "\n",
    "Matt is watching his calories but also doesn't like cranberries. Use some method or function  on the \"dishes\" array to create a new variable called \"countingCalories\" and calculate the total number of calories that will be consumed."
   ]
  },
  {
   "cell_type": "markdown",
   "metadata": {},
   "source": [
    "## Question #4\n",
    "\n",
    "Gerald cannot afford to get normal amount of food this thanksgiving and only can afford $20 worth of food in total.\n",
    "\n",
    "Iterate through the list of dishes: Looking at the cost, print the list of items that are within Gerald’s budget.\n",
    "- If a food item is within the $20 budget print ... “Add {food item name goes here} to cart”. \n",
    "- If Gerald is out of budget, print “sorry pal, out of budget,  maybe next year”. \n",
    "\n",
    "Example output:-\n",
    "        \"Add Turkey to cart\"\n",
    "        \"Add Cranberry stuffing to cart\"\n",
    "        ...\n",
    "        \"sorry pal, out of budget,  maybe next year\"\n",
    "        \"sorry pal, out of budget,  maybe next year\"\n",
    "\n",
    "Finally, filter through the list of food items and print a filtered list of items that are under $5."
   ]
  }
 ],
 "metadata": {
  "kernelspec": {
   "display_name": "Python 3.10.7 64-bit",
   "language": "python",
   "name": "python3"
  },
  "language_info": {
   "name": "python",
   "version": "3.10.7"
  },
  "orig_nbformat": 4,
  "vscode": {
   "interpreter": {
    "hash": "369f2c481f4da34e4445cda3fffd2e751bd1c4d706f27375911949ba6bb62e1c"
   }
  }
 },
 "nbformat": 4,
 "nbformat_minor": 2
}
