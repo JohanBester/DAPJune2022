{
 "cells": [
  {
   "cell_type": "code",
   "execution_count": 1,
   "metadata": {},
   "outputs": [
    {
     "name": "stdout",
     "output_type": "stream",
     "text": [
      "[1 2 3 4]\n",
      "a = [[ 1  2  3  4]\n",
      " [ 5  6  7  8]\n",
      " [ 9 10 10 12]]\n"
     ]
    }
   ],
   "source": [
    "import numpy as np\n",
    "\n",
    "a = np.array([[1, 2, 3, 4], [5, 6, 7, 8], [9, 10, 10, 12]])\n",
    "print(a[0])\n",
    "print(\"a =\", a)"
   ]
  },
  {
   "cell_type": "code",
   "execution_count": 3,
   "metadata": {},
   "outputs": [
    {
     "name": "stdout",
     "output_type": "stream",
     "text": [
      "b = [0. 0. 0. 0.]\n"
     ]
    }
   ],
   "source": [
    "import numpy as np\n",
    "\n",
    "# Create Array filled with zeros\n",
    "b = np.zeros(4)\n",
    "print(\"b =\", b)"
   ]
  },
  {
   "cell_type": "code",
   "execution_count": 17,
   "metadata": {},
   "outputs": [
    {
     "name": "stdout",
     "output_type": "stream",
     "text": [
      "c = [1. 1.]\n"
     ]
    }
   ],
   "source": [
    "import numpy as np\n",
    "\n",
    "# Create Array filled with 2x ones\n",
    "c = np.ones(2)\n",
    "print(\"c =\", c)"
   ]
  },
  {
   "cell_type": "code",
   "execution_count": 4,
   "metadata": {},
   "outputs": [
    {
     "name": "stdout",
     "output_type": "stream",
     "text": [
      "d = [1.66043036e+243 1.96086552e+243 1.39310750e-258]\n"
     ]
    }
   ],
   "source": [
    "import numpy as np\n",
    "\n",
    "# Creates an array with \n",
    "# initial random content\n",
    "# based on the state of memory\n",
    "\n",
    "d = np.empty(3)\n",
    "print(\"d =\", d)"
   ]
  },
  {
   "cell_type": "code",
   "execution_count": 5,
   "metadata": {},
   "outputs": [
    {
     "name": "stdout",
     "output_type": "stream",
     "text": [
      "e = [0 1 2 3 4]\n"
     ]
    }
   ],
   "source": [
    "import numpy as np\n",
    "\n",
    "# Range from 0 upto (not including)\n",
    "e = np.arange(5)\n",
    "print(\"e =\", e)"
   ]
  },
  {
   "cell_type": "code",
   "execution_count": 18,
   "metadata": {},
   "outputs": [
    {
     "name": "stdout",
     "output_type": "stream",
     "text": [
      "f = [2 4 6 8]\n"
     ]
    }
   ],
   "source": [
    "import numpy as np\n",
    "\n",
    "#   Array of evenly inter-spaced values\n",
    "#   start at 1st value,\n",
    "#   Upto but not including the second value\n",
    "#   By steps of the last value\n",
    "\n",
    "f = np.arange(2, 9, 2)\n",
    "print(\"f =\", f)"
   ]
  },
  {
   "cell_type": "code",
   "execution_count": 8,
   "metadata": {},
   "outputs": [
    {
     "name": "stdout",
     "output_type": "stream",
     "text": [
      "g = [ 0.   2.5  5.   7.5 10. ]\n"
     ]
    }
   ],
   "source": [
    "import numpy as np\n",
    "\n",
    "# With values spaced linearly \n",
    "# from 1st value\n",
    "# up to 2nd value\n",
    "# with X number of elements\n",
    "\n",
    "g = np.linspace(0, 10, num=5)\n",
    "print(\"g =\", g)"
   ]
  },
  {
   "cell_type": "code",
   "execution_count": 9,
   "metadata": {},
   "outputs": [
    {
     "name": "stdout",
     "output_type": "stream",
     "text": [
      "a1 = [1 2 3 4 5 6 7 8]\n"
     ]
    }
   ],
   "source": [
    "import numpy as np\n",
    "\n",
    "# Sorting array elements\n",
    "arr1 = np.array([2, 1, 5, 3, 7, 4, 6, 8])\n",
    "a1 = np.sort(arr1)\n",
    "print(\"a1 =\", a1)"
   ]
  },
  {
   "cell_type": "code",
   "execution_count": 14,
   "metadata": {},
   "outputs": [
    {
     "name": "stdout",
     "output_type": "stream",
     "text": [
      "arr2 = [1 2 3 4 5 6 7 8]\n"
     ]
    }
   ],
   "source": [
    "import numpy as np\n",
    "\n",
    "# Concatenating 2 Arrays\n",
    "a2 = np.array([1, 2, 3, 4])\n",
    "b2 = np.array([5, 6, 7, 8])\n",
    "arr2 = np.concatenate((a2, b2))\n",
    "print(\"arr2 =\", arr2)\n"
   ]
  },
  {
   "cell_type": "code",
   "execution_count": 15,
   "metadata": {},
   "outputs": [
    {
     "name": "stdout",
     "output_type": "stream",
     "text": [
      "arr3 [[1 2]\n",
      " [3 4]\n",
      " [5 6]]\n"
     ]
    }
   ],
   "source": [
    "import numpy as np\n",
    "\n",
    "# Concatenating more Arrays\n",
    "x = np.array([[1, 2], [3, 4]])\n",
    "y = np.array([[5, 6]])\n",
    "arr3 = np.concatenate((x, y), axis=0)\n",
    "print(\"arr3\", arr3)"
   ]
  },
  {
   "cell_type": "code",
   "execution_count": 16,
   "metadata": {},
   "outputs": [
    {
     "name": "stdout",
     "output_type": "stream",
     "text": [
      "Dimension = 3\n",
      "Size = 24\n",
      "Shape = (3, 2, 4)\n"
     ]
    }
   ],
   "source": [
    "import numpy as np\n",
    "\n",
    "# Discovering the shape and size of an Array\n",
    "array_example = np.array(\n",
    "    [\n",
    "        [[0, 1, 2, 3], [4, 5, 6, 7]],\n",
    "        [[0, 1, 2, 3], [4, 5, 6, 7]],\n",
    "        [[0, 1, 2, 3], [4, 5, 6, 7]],\n",
    "    ]\n",
    ")\n",
    "\n",
    "# Number of Dimensions\n",
    "t = array_example.ndim\n",
    "print(\"Dimension =\", t)\n",
    "\n",
    "# Array Size\n",
    "u = array_example.size\n",
    "print(\"Size =\", u)\n",
    "\n",
    "# Array Shape\n",
    "v = array_example.shape\n",
    "print(\"Shape =\", v)\n"
   ]
  },
  {
   "cell_type": "code",
   "execution_count": 19,
   "metadata": {},
   "outputs": [
    {
     "name": "stdout",
     "output_type": "stream",
     "text": [
      "Original array h ...  [0 1 2 3 4 5]\n",
      "reshaped array ... [[0 1]\n",
      " [2 3]\n",
      " [4 5]]\n"
     ]
    }
   ],
   "source": [
    "import numpy as np\n",
    "\n",
    "# Reshaping arrays\n",
    "\n",
    "# First create an array of 6 elements\n",
    "h = np.arange(6)\n",
    "print(\"Original array h ... \", h)\n",
    "\n",
    "# reshape into 3 axis w/ length of 2\n",
    "i = h.reshape(3, 2)\n",
    "print(\"Reshaped array ...\", i)\n"
   ]
  },
  {
   "cell_type": "code",
   "execution_count": 21,
   "metadata": {},
   "outputs": [
    {
     "name": "stdout",
     "output_type": "stream",
     "text": [
      "Original array ... [1 2 3]\n",
      "Element [2] ... 2\n",
      "Slice 0:2 ... [1 2]\n",
      "Slice [1:] ... [2 3]\n",
      "Slice [-2:] ... [2 3]\n"
     ]
    }
   ],
   "source": [
    "import numpy as np\n",
    "\n",
    "#   Indexing and Slicing Arrays ...\n",
    "data = np.array([1, 2, 3])\n",
    "aa2 = data[1]\n",
    "bb2 = data[0:2]\n",
    "cc2 = data[1:]\n",
    "dd2 = data[-2:]\n",
    "print(\"Original array ...\", data)\n",
    "print(\"Element [2] ...\", aa2)\n",
    "print(\"Slice 0:2 ...\", bb2)\n",
    "print(\"Slice [1:] ...\", cc2)\n",
    "print(\"Slice [-2:] ...\", dd2)\n"
   ]
  },
  {
   "cell_type": "code",
   "execution_count": 23,
   "metadata": {},
   "outputs": [
    {
     "name": "stdout",
     "output_type": "stream",
     "text": [
      "Original array ... [[ 1  2  3  4]\n",
      " [ 5  6  7  8]\n",
      " [ 9 10 11 12]]\n",
      "Elements < 5 ... [1 2 3 4]\n",
      "Elements >= 5 ... [ 5  6  7  8  9 10 11 12]\n",
      "Elements divisible by 2 ... [ 2  4  6  8 10 12]\n"
     ]
    }
   ],
   "source": [
    "import numpy as np\n",
    "\n",
    "# More Indexing and Slicing\n",
    "data2 = np.array([[1, 2, 3, 4], [5, 6, 7, 8], [9, 10, 11, 12]])\n",
    "print(\"Original array ...\", data2)\n",
    "print(\"Elements < 5 ...\", data2[data2 < 5])\n",
    "\n",
    "five_up = data2 >= 5\n",
    "print(\"Elements >= 5 ...\", data2[five_up])\n",
    "\n",
    "divisible_by_2 = data2[data2 % 2 == 0]\n",
    "print(\"Elements divisible by 2 ...\", divisible_by_2)\n"
   ]
  },
  {
   "cell_type": "code",
   "execution_count": 25,
   "metadata": {},
   "outputs": [
    {
     "name": "stdout",
     "output_type": "stream",
     "text": [
      "X * Y =  [[-0.  -0.2 -0.6 -1.2]\n",
      " [-0.4 -1.  -1.8 -2.8]\n",
      " [-0.8 -1.8 -3.  -4.4]]\n"
     ]
    }
   ],
   "source": [
    "import numpy as np\n",
    "\n",
    "# BROADCASTING ARRAYS\n",
    "\n",
    "# Create a (3, 4) shape-array\n",
    "x = np.array(\n",
    "    [[-0.0, -0.1, -0.2, -0.3], [-0.4, -0.5, -0.6, -0.7], [-0.8, -0.9, -1.0, -1.1]]\n",
    ")\n",
    "# Create a (4,) shape-array\n",
    "y = np.array([1, 2, 3, 4])\n",
    "\n",
    "# multiplying (4,) array -- y\n",
    "# by (3, 4) array -- x\n",
    "# Y multiplied by each row of X\n",
    "print(\"X * Y = \", x * y)\n",
    "\n",
    "#   Output: -\n",
    "#   array([ [-0. , -0.2, -0.6, -1.2],\n",
    "#        \t[-0.4, -1. , -1.8, -2.8],\n",
    "#        \t[-0.8, -1.8, -3. , -4.4] ])\n"
   ]
  }
 ],
 "metadata": {
  "kernelspec": {
   "display_name": "Python 3.10.7 64-bit",
   "language": "python",
   "name": "python3"
  },
  "language_info": {
   "codemirror_mode": {
    "name": "ipython",
    "version": 3
   },
   "file_extension": ".py",
   "mimetype": "text/x-python",
   "name": "python",
   "nbconvert_exporter": "python",
   "pygments_lexer": "ipython3",
   "version": "3.10.7"
  },
  "orig_nbformat": 4,
  "vscode": {
   "interpreter": {
    "hash": "369f2c481f4da34e4445cda3fffd2e751bd1c4d706f27375911949ba6bb62e1c"
   }
  }
 },
 "nbformat": 4,
 "nbformat_minor": 2
}
